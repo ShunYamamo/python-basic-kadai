{
  "nbformat": 4,
  "nbformat_minor": 0,
  "metadata": {
    "colab": {
      "provenance": []
    },
    "kernelspec": {
      "name": "python3",
      "display_name": "Python 3"
    },
    "language_info": {
      "name": "python"
    }
  },
  "cells": [
    {
      "cell_type": "code",
      "execution_count": 2,
      "metadata": {
        "id": "NGp2fF7GBo4N",
        "colab": {
          "base_uri": "https://localhost:8080/"
        },
        "outputId": "7377ebaf-f930-4305-c074-c8dee52ac2f5"
      },
      "outputs": [
        {
          "output_type": "stream",
          "name": "stdout",
          "text": [
            "[' ', '商品名', '数量', '単価', '金額']\n"
          ]
        }
      ],
      "source": [
        "import openpyxl\n",
        "from openpyxl.styles import Border, Side\n",
        "\n",
        "workbook = openpyxl.Workbook()\n",
        "sheet = workbook.active\n",
        "\n",
        "sheet[\"B2\"].value = \"請求書\"\n",
        "\n",
        "sheet[\"B4\"].value = \"株式会社ABC\"\n",
        "\n",
        "sheet[\"B5\"].value = \"〒101-0022 東京都千代田区神田練塀町300\"\n",
        "sheet[\"B6\"].value = \"TEL:03-1234-5678 FAX:03-1234-5678\"\n",
        "sheet[\"B7\"].value = \"担当者名:鈴木一郎 様\"\n",
        "\n",
        "sheet[\"F4\"].value = \"No.\"\n",
        "sheet[\"F5\"].value = \"日付\"\n",
        "\n",
        "sheet[\"G4\"].value = \"0001\"\n",
        "\n",
        "from datetime import datetime\n",
        "\n",
        "today = datetime.today()\n",
        "sheet[\"G5\"].value = f\"{today.strftime('%Y/%m/%d')}\"\n",
        "\n",
        "sheet.append([])\n",
        "sheet.append([])\n",
        "header = ['商品名', '数量', '単価', '金額']\n",
        "sheet.append([' ']+header)\n",
        "print([' ']+header)\n",
        "\n",
        "data = [\n",
        "    [' ', '商品A', 2, 10000, 20000],\n",
        "    [' ', '商品B', 1, 15000, 15000]\n",
        "]\n",
        "\n",
        "for row in data:\n",
        "    sheet.append(row)\n",
        "\n",
        "thin_border = Border(left=Side(style='thin'),\n",
        "                    right=Side(style='thin'),\n",
        "                    top=Side(style='thin'),\n",
        "                    bottom=Side(style='thin'))\n",
        "\n",
        "\n",
        "sheet[\"E13\"].value = 35000\n",
        "\n",
        "sheet[\"B15\"].value = \"合計\"\n",
        "sheet[\"B16\"].value = \"消費税\"\n",
        "sheet[\"B17\"].value = \"税込合計\"\n",
        "\n",
        "sheet[\"E15\"].value = 35000\n",
        "sheet[\"E16\"].value = 3500\n",
        "sheet[\"E17\"].value = 38500\n",
        "\n",
        "workbook.save('請求書_20230520（現在日付）.xlsx')\n"
      ]
    }
  ]
}